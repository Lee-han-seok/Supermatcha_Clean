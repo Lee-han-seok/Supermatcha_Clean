{
 "cells": [
  {
   "cell_type": "code",
   "execution_count": 1,
   "metadata": {},
   "outputs": [],
   "source": [
    "import requests \n",
    "from selenium import webdriver as wd \n",
    "from selenium.webdriver.common.by import By \n",
    "from selenium.webdriver.support.ui import WebDriverWait \n",
    "from selenium.webdriver.support import expected_conditions as EC\n",
    "import time\n",
    "import random\n",
    "import re\n",
    "import pandas as pd\n",
    "import json # import json module\n",
    "%matplotlib inline\n",
    "import matplotlib.pyplot as plt\n",
    "\n",
    "import warnings\n",
    "warnings.filterwarnings('ignore')"
   ]
  },
  {
   "cell_type": "code",
   "execution_count": 10,
   "metadata": {},
   "outputs": [],
   "source": [
    "with open('에너지드링크.json') as json_file:\n",
    "    json_data = json.load(json_file)\n",
    "ed = pd.DataFrame(json_data['data'])"
   ]
  },
  {
   "cell_type": "code",
   "execution_count": 2,
   "metadata": {},
   "outputs": [],
   "source": [
    "with open('몬스터에너지.json') as json_file:\n",
    "    json_data = json.load(json_file)\n",
    "me = pd.DataFrame(json_data['data'])"
   ]
  },
  {
   "cell_type": "code",
   "execution_count": 4,
   "metadata": {},
   "outputs": [],
   "source": [
    "with open('레드불.json') as json_file:\n",
    "    json_data = json.load(json_file)\n",
    "rb = pd.DataFrame(json_data['data'])"
   ]
  },
  {
   "cell_type": "code",
   "execution_count": 6,
   "metadata": {},
   "outputs": [],
   "source": [
    "with open('몬스터에너지울트라_최종.json') as json_file:\n",
    "    json_data = json.load(json_file)\n",
    "me_u = pd.DataFrame(json_data['data'])"
   ]
  },
  {
   "cell_type": "code",
   "execution_count": 7,
   "metadata": {},
   "outputs": [],
   "source": [
    "with open('박카스.json') as json_file:\n",
    "    json_data = json.load(json_file)\n",
    "bc = pd.DataFrame(json_data['data'])"
   ]
  },
  {
   "cell_type": "code",
   "execution_count": 8,
   "metadata": {},
   "outputs": [],
   "source": [
    "with open('비타500.json') as json_file:\n",
    "    json_data = json.load(json_file)\n",
    "v500 = pd.DataFrame(json_data['data'])"
   ]
  },
  {
   "cell_type": "code",
   "execution_count": 11,
   "metadata": {},
   "outputs": [],
   "source": [
    "with open('캔구루.json') as json_file:\n",
    "    json_data = json.load(json_file)\n",
    "cg = pd.DataFrame(json_data['data'])"
   ]
  },
  {
   "cell_type": "code",
   "execution_count": 12,
   "metadata": {},
   "outputs": [],
   "source": [
    "with open('핫식스.json') as json_file:\n",
    "    json_data = json.load(json_file)\n",
    "hs = pd.DataFrame(json_data['data'])"
   ]
  },
  {
   "cell_type": "markdown",
   "metadata": {},
   "source": [
    "# 전체 통합 데이터 생성 "
   ]
  },
  {
   "cell_type": "code",
   "execution_count": 37,
   "metadata": {},
   "outputs": [],
   "source": [
    "total_ed_df = pd.concat([ed, me, rb, me_u, bc, v500, cg, hs]).reset_index()"
   ]
  },
  {
   "cell_type": "code",
   "execution_count": 38,
   "metadata": {},
   "outputs": [],
   "source": [
    "total_ed = total_ed_df.drop(['level_0', 'index'], axis = 1)"
   ]
  },
  {
   "cell_type": "code",
   "execution_count": 39,
   "metadata": {},
   "outputs": [],
   "source": [
    "total_ed.to_json(\"에너지드링크전체.json\", orient = 'table')"
   ]
  },
  {
   "cell_type": "markdown",
   "metadata": {},
   "source": [
    "# 건강 에너지음료 데이터"
   ]
  },
  {
   "cell_type": "code",
   "execution_count": 40,
   "metadata": {},
   "outputs": [],
   "source": [
    "h_ed_df = pd.concat([me_u, cg]).reset_index()\n",
    "h_ed = h_ed_df.drop(['level_0', 'index'], axis = 1)"
   ]
  },
  {
   "cell_type": "code",
   "execution_count": 41,
   "metadata": {},
   "outputs": [],
   "source": [
    "h_ed.to_json(\"건강에너지드링크.json\", orient = 'table')"
   ]
  },
  {
   "cell_type": "markdown",
   "metadata": {},
   "source": [
    "# 데일리 에너지 음료 데이터"
   ]
  },
  {
   "cell_type": "code",
   "execution_count": 42,
   "metadata": {},
   "outputs": [],
   "source": [
    "d_ed_df = pd.concat([bc, v500]).reset_index()\n",
    "d_ed = d_ed_df.drop(['level_0', 'index'], axis = 1)"
   ]
  },
  {
   "cell_type": "code",
   "execution_count": 43,
   "metadata": {},
   "outputs": [],
   "source": [
    "d_ed.to_json(\"데일리에너지드링크.json\", orient = 'table')"
   ]
  },
  {
   "cell_type": "markdown",
   "metadata": {},
   "source": [
    "# 일반 에너지음료 데이터"
   ]
  },
  {
   "cell_type": "code",
   "execution_count": 44,
   "metadata": {},
   "outputs": [],
   "source": [
    "g_ed_df = pd.concat([ed, me, rb, hs]).reset_index()\n",
    "g_ed = g_ed_df.drop(['level_0', 'index'], axis = 1)"
   ]
  },
  {
   "cell_type": "code",
   "execution_count": 45,
   "metadata": {},
   "outputs": [],
   "source": [
    "g_ed.to_json(\"일반에너지드링크.json\", orient = 'table')"
   ]
  }
 ],
 "metadata": {
  "kernelspec": {
   "display_name": "tf-gpu",
   "language": "python",
   "name": "tf2.0-gpu"
  },
  "language_info": {
   "codemirror_mode": {
    "name": "ipython",
    "version": 3
   },
   "file_extension": ".py",
   "mimetype": "text/x-python",
   "name": "python",
   "nbconvert_exporter": "python",
   "pygments_lexer": "ipython3",
   "version": "3.7.6"
  }
 },
 "nbformat": 4,
 "nbformat_minor": 4
}
